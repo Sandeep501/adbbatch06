{
 "cells": [
  {
   "cell_type": "code",
   "execution_count": 0,
   "metadata": {
    "application/vnd.databricks.v1+cell": {
     "cellMetadata": {
      "byteLimit": 2048000,
      "rowLimit": 10000
     },
     "inputWidgets": {},
     "nuid": "9ea4ddb3-9990-4b09-b2eb-1eb14e436425",
     "showTitle": false,
     "tableResultSettingsMap": {},
     "title": ""
    }
   },
   "outputs": [],
   "source": [
    "from pyspark.sql import functions as F\n",
    "from pyspark.sql.types import StringType, IntegerType, FloatType, DateType"
   ]
  },
  {
   "cell_type": "code",
   "execution_count": 0,
   "metadata": {
    "application/vnd.databricks.v1+cell": {
     "cellMetadata": {
      "byteLimit": 2048000,
      "rowLimit": 10000
     },
     "inputWidgets": {},
     "nuid": "8c020f9d-6103-498c-a58c-e083e440ea3e",
     "showTitle": false,
     "tableResultSettingsMap": {},
     "title": ""
    }
   },
   "outputs": [],
   "source": [
    "# Read a csv file\n",
    "\n",
    "path = \"/FileStore/tables/DataAnalytics/top_rated_movies.csv\"\n",
    "movies_df = (\n",
    "    spark.read.format(\"csv\")\n",
    "    .option(\"header\", True)\n",
    "    .option(\"inferSchema\", True)\n",
    "    .load(path)\n",
    ")\n",
    "display(movies_df)"
   ]
  },
  {
   "cell_type": "code",
   "execution_count": 0,
   "metadata": {
    "application/vnd.databricks.v1+cell": {
     "cellMetadata": {
      "byteLimit": 2048000,
      "rowLimit": 10000
     },
     "inputWidgets": {},
     "nuid": "cc684171-4a50-4772-9ef6-cb96be76945a",
     "showTitle": false,
     "tableResultSettingsMap": {},
     "title": ""
    }
   },
   "outputs": [],
   "source": [
    "# id - int\n",
    "# title - string\n",
    "# overview - string\n",
    "# release_date - date\n",
    "# popularity - float\n",
    "# vote_average - float\n",
    "# vote_count - int"
   ]
  },
  {
   "cell_type": "code",
   "execution_count": 0,
   "metadata": {
    "application/vnd.databricks.v1+cell": {
     "cellMetadata": {
      "byteLimit": 2048000,
      "rowLimit": 10000
     },
     "inputWidgets": {},
     "nuid": "8bdde194-124f-41e1-ad73-00c09f236ee2",
     "showTitle": false,
     "tableResultSettingsMap": {},
     "title": ""
    }
   },
   "outputs": [],
   "source": [
    "cleaned_movies_df = (\n",
    "    movies_df\n",
    "    .withColumn(\"release_date\", F.regexp_replace(F.col(\"release_date\"), \"[^0-9:/-]\", \"9999-01-01\"))\n",
    "    .filter(~(F.col(\"release_date\").contains(\"9999-01-01\")))\n",
    "    # .withColumn(\"release_date\", F.regexp_replace(F.col(\"release_date\"), \"[^0-9:/-]\", \"\"))\n",
    ")\n",
    "cleaned_movies_df.display()"
   ]
  },
  {
   "cell_type": "code",
   "execution_count": 0,
   "metadata": {
    "application/vnd.databricks.v1+cell": {
     "cellMetadata": {
      "byteLimit": 2048000,
      "rowLimit": 10000
     },
     "inputWidgets": {},
     "nuid": "00aad60a-fadd-4cc0-8046-673304d55ba1",
     "showTitle": false,
     "tableResultSettingsMap": {},
     "title": ""
    }
   },
   "outputs": [],
   "source": [
    "cleaned_movies_df.columns"
   ]
  },
  {
   "cell_type": "code",
   "execution_count": 0,
   "metadata": {
    "application/vnd.databricks.v1+cell": {
     "cellMetadata": {
      "byteLimit": 2048000,
      "rowLimit": 10000
     },
     "inputWidgets": {},
     "nuid": "6bc1051b-3f54-4a37-aa4a-341216418d88",
     "showTitle": false,
     "tableResultSettingsMap": {
      "0": {
       "dataGridStateBlob": "{\"version\":1,\"tableState\":{\"columnPinning\":{\"left\":[\"#row_number#\"],\"right\":[]},\"columnSizing\":{},\"columnVisibility\":{}},\"settings\":{\"columns\":{}},\"syncTimestamp\":1757568432399}",
       "filterBlob": null,
       "queryPlanFiltersBlob": null,
       "tableResultIndex": 0
      }
     },
     "title": ""
    }
   },
   "outputs": [],
   "source": [
    "cleaned_movies_df1 = (\n",
    "    cleaned_movies_df\n",
    "    .select(\n",
    "        F.col(\"id\").cast(IntegerType()),\n",
    "        F.col(\"title\").cast(StringType()),\n",
    "        F.col(\"overview\").cast(StringType()),\n",
    "        F.col(\"release_date\").cast(DateType()),\n",
    "        (F.round(F.col(\"popularity\"), 3).alias(\"popularity\")).cast(FloatType()),\n",
    "        F.col(\"vote_average\").cast(FloatType()),\n",
    "        F.col(\"vote_count\").cast(IntegerType()),\n",
    "    )\n",
    ")\n",
    "cleaned_movies_df1.display()"
   ]
  },
  {
   "cell_type": "code",
   "execution_count": 0,
   "metadata": {
    "application/vnd.databricks.v1+cell": {
     "cellMetadata": {
      "byteLimit": 2048000,
      "rowLimit": 10000
     },
     "inputWidgets": {},
     "nuid": "740cc744-6fb8-4910-a208-7d3cef55c87a",
     "showTitle": false,
     "tableResultSettingsMap": {
      "0": {
       "dataGridStateBlob": "{\"version\":1,\"tableState\":{\"columnPinning\":{\"left\":[\"#row_number#\"],\"right\":[]},\"columnSizing\":{},\"columnVisibility\":{}},\"settings\":{\"columns\":{}},\"syncTimestamp\":1757568804357}",
       "filterBlob": null,
       "queryPlanFiltersBlob": null,
       "tableResultIndex": 0
      }
     },
     "title": ""
    }
   },
   "outputs": [],
   "source": [
    "movie_count = cleaned_movies_df1.groupBy(\"release_date\").agg(F.count(\"id\").alias(\"no_of_movies_released\"))\n",
    "display(movie_count)"
   ]
  },
  {
   "cell_type": "code",
   "execution_count": 0,
   "metadata": {
    "application/vnd.databricks.v1+cell": {
     "cellMetadata": {
      "byteLimit": 2048000,
      "rowLimit": 10000
     },
     "inputWidgets": {},
     "nuid": "ecbf8208-9448-4941-bcce-c69da1f3b0a7",
     "showTitle": false,
     "tableResultSettingsMap": {},
     "title": ""
    }
   },
   "outputs": [],
   "source": [
    "movie_count = (\n",
    "    cleaned_movies_df1\n",
    "    .groupBy(\"release_date\")\n",
    "    .agg(F.count(\"id\").alias(\"no_of_movies_released\"))\n",
    ")\n",
    "display(movie_count.orderBy(F.col(\"no_of_movies_released\").desc()).limit(1))"
   ]
  },
  {
   "cell_type": "code",
   "execution_count": 0,
   "metadata": {
    "application/vnd.databricks.v1+cell": {
     "cellMetadata": {
      "byteLimit": 2048000,
      "rowLimit": 10000
     },
     "inputWidgets": {},
     "nuid": "297a94a5-fbaa-49ad-95cf-5f27e113aa1a",
     "showTitle": false,
     "tableResultSettingsMap": {
      "0": {
       "dataGridStateBlob": "{\"version\":1,\"tableState\":{\"columnPinning\":{\"left\":[\"#row_number#\"],\"right\":[]},\"columnSizing\":{},\"columnVisibility\":{}},\"settings\":{\"columns\":{}},\"syncTimestamp\":1757569135703}",
       "filterBlob": null,
       "queryPlanFiltersBlob": null,
       "tableResultIndex": 0
      }
     },
     "title": ""
    }
   },
   "outputs": [],
   "source": [
    "cleaned_movies_df1 = (\n",
    "    cleaned_movies_df1\n",
    "    .withColumn(\"year\", F.year(F.col(\"release_date\")))\n",
    "    .withColumn(\"month\", F.month(F.col(\"release_date\")))\n",
    "    .withColumn(\"day\", F.dayofmonth(F.col(\"release_date\")))\n",
    ")\n",
    "display(cleaned_movies_df1)"
   ]
  },
  {
   "cell_type": "code",
   "execution_count": 0,
   "metadata": {
    "application/vnd.databricks.v1+cell": {
     "cellMetadata": {},
     "inputWidgets": {},
     "nuid": "40aeef56-d0e0-426d-93a2-c69e8b1f2956",
     "showTitle": false,
     "tableResultSettingsMap": {},
     "title": ""
    }
   },
   "outputs": [],
   "source": [
    "# movie_reach - if vote_average is between 6 to 6.9 --> Hit, if vote_average is between 7 to 7.999 Super Hit, if vote_average is >= 8 else Blockboster"
   ]
  },
  {
   "cell_type": "code",
   "execution_count": 0,
   "metadata": {
    "application/vnd.databricks.v1+cell": {
     "cellMetadata": {
      "byteLimit": 2048000,
      "rowLimit": 10000
     },
     "inputWidgets": {},
     "nuid": "4c2293bf-8e4e-422c-9aea-2eb738a71337",
     "showTitle": false,
     "tableResultSettingsMap": {
      "0": {
       "dataGridStateBlob": "{\"version\":1,\"tableState\":{\"columnPinning\":{\"left\":[\"#row_number#\"],\"right\":[]},\"columnSizing\":{},\"columnVisibility\":{}},\"settings\":{\"columns\":{}},\"syncTimestamp\":1757569603010}",
       "filterBlob": null,
       "queryPlanFiltersBlob": null,
       "tableResultIndex": 0
      }
     },
     "title": ""
    }
   },
   "outputs": [],
   "source": [
    "movie_reach_df = (\n",
    "    cleaned_movies_df1\n",
    "    .withColumn(\n",
    "        \"movie_reach\",\n",
    "        F.when(\n",
    "            F.col(\"vote_average\").between(6, 6.9999),\n",
    "            \"Hit\"\n",
    "        )\n",
    "        .when(\n",
    "            F.col(\"vote_average\").between(7, 7.9999),\n",
    "            \"SuperHit\"\n",
    "        )\n",
    "        .when(\n",
    "            F.col(\"vote_average\") >= 8,\n",
    "            \"BlockBosterHit\"\n",
    "        )\n",
    "        .otherwise(\"Average\")\n",
    "    )\n",
    ")\n",
    "display(movie_reach_df)"
   ]
  },
  {
   "cell_type": "code",
   "execution_count": 0,
   "metadata": {
    "application/vnd.databricks.v1+cell": {
     "cellMetadata": {},
     "inputWidgets": {},
     "nuid": "9754ef4c-43aa-499a-a9b6-8b8727072b73",
     "showTitle": false,
     "tableResultSettingsMap": {},
     "title": ""
    }
   },
   "outputs": [],
   "source": [
    "# year listOfmovies\n",
    "# 2020 [\"F1\", \"Race\", \"Gang\", \"SpiderMan1\"]"
   ]
  },
  {
   "cell_type": "code",
   "execution_count": 0,
   "metadata": {
    "application/vnd.databricks.v1+cell": {
     "cellMetadata": {
      "byteLimit": 2048000,
      "rowLimit": 10000
     },
     "inputWidgets": {},
     "nuid": "8d898e93-94d6-463c-8bc2-aa16e4cc322c",
     "showTitle": false,
     "tableResultSettingsMap": {},
     "title": ""
    }
   },
   "outputs": [],
   "source": [
    "list_of_movies_df = (\n",
    "    movie_reach_df\n",
    "    .groupBy(\"year\")\n",
    "    .agg(\n",
    "        F.collect_list(F.col(\"title\")).alias(\"list_of_movies\")\n",
    "    )\n",
    ")\n",
    "display(list_of_movies_df)"
   ]
  },
  {
   "cell_type": "code",
   "execution_count": 0,
   "metadata": {
    "application/vnd.databricks.v1+cell": {
     "cellMetadata": {
      "byteLimit": 2048000,
      "rowLimit": 10000
     },
     "inputWidgets": {},
     "nuid": "d5993f09-6317-4b27-8991-df068861e4c4",
     "showTitle": false,
     "tableResultSettingsMap": {},
     "title": ""
    }
   },
   "outputs": [],
   "source": [
    "list_of_movies_df = (\n",
    "    movie_reach_df\n",
    "    .groupBy(\"year\")\n",
    "    .agg(\n",
    "        F.collect_set(F.col(\"title\")).alias(\"list_of_movies\")\n",
    "    )\n",
    ")\n",
    "display(list_of_movies_df)"
   ]
  }
 ],
 "metadata": {
  "application/vnd.databricks.v1+notebook": {
   "computePreferences": null,
   "dashboards": [],
   "environmentMetadata": {
    "base_environment": "",
    "environment_version": "3"
   },
   "inputWidgetPreferences": null,
   "language": "python",
   "notebookMetadata": {
    "pythonIndentUnit": 4
   },
   "notebookName": "Pyspark Agg-2",
   "widgets": {}
  },
  "language_info": {
   "name": "python"
  }
 },
 "nbformat": 4,
 "nbformat_minor": 0
}
